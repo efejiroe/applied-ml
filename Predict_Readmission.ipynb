{
  "cells": [
    {
      "cell_type": "markdown",
      "metadata": {
        "id": "jI6lVsmTzRZq"
      },
      "source": [
        "# RwHealth: Data Science Assessment \n",
        "\n",
        "**Your task:**\n",
        "\n",
        "Using this Inpatient dataset, build 3 machine learning models to predict the likelihood of a readmission. \n",
        "\n",
        "Evaluate each model, and determine which of the models is best.\n",
        "\n",
        "As part of your analysis of the data please include any statistical analysis, plots or data exploration carried out.\n",
        "\n",
        "**Dataset:**\n",
        "\n",
        "Throughout this notebook, you will be using the Inpatient dataset.\n",
        "\n",
        "\n",
        "**Tips:**\n",
        "\n",
        "- Some code is included to get you started in R\n",
        "- If you are doing this in Python please replace and refactor any code\n",
        "- Add markdown cells to this notebook to include explanations  \n",
        "- Include comments in your code\n",
        "- Include plots where appropriate to explain your data and models\n"
      ]
    },
    {
      "cell_type": "markdown",
      "metadata": {
        "ExecuteTime": {
          "end_time": "2021-07-19T12:31:46.660165Z",
          "start_time": "2021-07-19T12:31:46.730Z"
        },
        "id": "cggnn5t6zRZ0"
      },
      "source": [
        "# Getting started"
      ]
    },
    {
      "cell_type": "markdown",
      "metadata": {
        "id": "Kn0pOo-WzRZ2"
      },
      "source": [
        "Now the packages are installed, load them in using them `library()` function."
      ]
    },
    {
      "cell_type": "code",
      "execution_count": 1,
      "metadata": {
        "ExecuteTime": {
          "end_time": "2022-05-17T12:26:05.287728Z",
          "start_time": "2022-05-17T12:26:02.421Z"
        },
        "colab": {
          "base_uri": "https://localhost:8080/"
        },
        "id": "Dj47EMW9zRZ4",
        "outputId": "8594a27d-81af-40f1-c79d-2232e84379d1"
      },
      "outputs": [
        {
          "output_type": "stream",
          "name": "stderr",
          "text": [
            "Warning message in system(\"timedatectl\", intern = TRUE):\n",
            "“running command 'timedatectl' had status 1”\n",
            "── \u001b[1mAttaching packages\u001b[22m ─────────────────────────────────────── tidyverse 1.3.1 ──\n",
            "\n",
            "\u001b[32m✔\u001b[39m \u001b[34mggplot2\u001b[39m 3.3.6     \u001b[32m✔\u001b[39m \u001b[34mpurrr  \u001b[39m 0.3.4\n",
            "\u001b[32m✔\u001b[39m \u001b[34mtibble \u001b[39m 3.1.7     \u001b[32m✔\u001b[39m \u001b[34mdplyr  \u001b[39m 1.0.9\n",
            "\u001b[32m✔\u001b[39m \u001b[34mtidyr  \u001b[39m 1.2.0     \u001b[32m✔\u001b[39m \u001b[34mstringr\u001b[39m 1.4.0\n",
            "\u001b[32m✔\u001b[39m \u001b[34mreadr  \u001b[39m 2.1.2     \u001b[32m✔\u001b[39m \u001b[34mforcats\u001b[39m 0.5.1\n",
            "\n",
            "── \u001b[1mConflicts\u001b[22m ────────────────────────────────────────── tidyverse_conflicts() ──\n",
            "\u001b[31m✖\u001b[39m \u001b[34mdplyr\u001b[39m::\u001b[32mfilter()\u001b[39m masks \u001b[34mstats\u001b[39m::filter()\n",
            "\u001b[31m✖\u001b[39m \u001b[34mdplyr\u001b[39m::\u001b[32mlag()\u001b[39m    masks \u001b[34mstats\u001b[39m::lag()\n",
            "\n"
          ]
        }
      ],
      "source": [
        "# Load in libraries\n",
        "library(tidyverse)"
      ]
    },
    {
      "cell_type": "markdown",
      "metadata": {
        "id": "ZZQsmx1IzRZ8"
      },
      "source": [
        "## Data preparation\n",
        "- Load in the `Inpatient.csv` dataset\n",
        "- Include some exploratory analysis\n",
        "- Clean the data by one hot encoding appropriate columns and converting data types where required\n",
        "- Create a test/train split of the data. "
      ]
    },
    {
      "cell_type": "markdown",
      "metadata": {
        "id": "xNM_PrjTzRZ-"
      },
      "source": [
        "## Load in data\n",
        "\n",
        "Read in the `Inpatient` dataset. \n"
      ]
    },
    {
      "cell_type": "code",
      "execution_count": null,
      "metadata": {
        "ExecuteTime": {
          "end_time": "2022-05-17T12:25:01.504560Z",
          "start_time": "2022-05-17T12:25:00.014Z"
        },
        "id": "Zb-h_63BzRaA"
      },
      "outputs": [],
      "source": [
        "# read in the dataset\n",
        "df <- read.csv(\"https://raw.githubusercontent.com/Draper-Dash/dsp-training/main/Inpatients.csv\", na.strings = \"\")\n"
      ]
    },
    {
      "cell_type": "markdown",
      "metadata": {
        "id": "L6IW2uyZzRaB"
      },
      "source": [
        "This data has 33 columns of data. We can view the structure of the data by using `str()`:"
      ]
    },
    {
      "cell_type": "code",
      "execution_count": null,
      "metadata": {
        "ExecuteTime": {
          "end_time": "2022-05-17T12:25:26.177634Z",
          "start_time": "2022-05-17T12:25:26.049Z"
        },
        "id": "mm3Jk-utzRaB"
      },
      "outputs": [],
      "source": [
        "# view a summary of the data using str()\n",
        "str(df)"
      ]
    },
    {
      "cell_type": "markdown",
      "metadata": {
        "ExecuteTime": {
          "end_time": "2021-07-19T13:05:49.278760Z",
          "start_time": "2021-07-19T13:05:49.378Z"
        },
        "id": "mExtROQnzRaD"
      },
      "source": [
        "## Exploratory analysis"
      ]
    },
    {
      "cell_type": "markdown",
      "metadata": {
        "id": "jRNplDxBzRaE"
      },
      "source": [
        "Running the code below will plot a grid of histograms which give a good visual summary of the data"
      ]
    },
    {
      "cell_type": "code",
      "execution_count": null,
      "metadata": {
        "ExecuteTime": {
          "end_time": "2022-05-17T12:26:10.506992Z",
          "start_time": "2022-05-17T12:26:09.406Z"
        },
        "id": "7c14934PzRaE"
      },
      "outputs": [],
      "source": [
        "# sets the heigth and width of the plot\n",
        "options(repr.plot.width=15, repr.plot.height=10)\n",
        "\n",
        "# create a facet plot for all numerical columns\n",
        "df %>%\n",
        "  keep(is.numeric) %>% \n",
        "  pivot_longer(cols = everything())  %>%   # Convert to name-value pairs\n",
        "  ggplot(aes(value)) +                     # Plot the values\n",
        "    facet_wrap(~ name, scales = \"free\") +  # in separate panels\n",
        "    geom_histogram()  +                    # as histogram\n",
        "    theme_minimal() +\n",
        "    theme(text = element_text(size=20))"
      ]
    },
    {
      "cell_type": "markdown",
      "source": [
        "## Setup"
      ],
      "metadata": {
        "id": "waDBN2oAbq9E"
      }
    },
    {
      "cell_type": "code",
      "source": [
        "# Load extra packages\n",
        "if (!require(\"pacman\")){\n",
        "  install.packages(\"pacman\")}\n",
        "\n",
        "pacman::p_load(#\n",
        "  'caret',\n",
        "  'skimr',\n",
        "  'randomForest',\n",
        "  'gbm',\n",
        "  'earth'\n",
        ")"
      ],
      "metadata": {
        "id": "RrHhSg-MciHj"
      },
      "execution_count": null,
      "outputs": []
    },
    {
      "cell_type": "markdown",
      "source": [
        "## Data Pre-processing"
      ],
      "metadata": {
        "id": "yCr7soG3dhi_"
      }
    },
    {
      "cell_type": "code",
      "source": [
        "# Convert features to numeric or factors\n",
        "data[data == \"NA\"] <- NA\n",
        "numerical <- c(8:11,14:16,18:32)\n",
        "\n",
        "data[, numerical] <- apply(data[, numerical], 2, function(x) as.numeric(as.character(x)))\n",
        "data[,-numerical] <- lapply(data[,-numerical], factor)\n",
        "\n",
        "data <- data[,c(13,10:11,14:16,18:32,3:5,7,17)] # Remove PII, wierd factors and variables with < 90%\n",
        "\n",
        "# Create the training and test datasets\n",
        "set.seed(100)\n",
        "trainRowNumbers <- createDataPartition(data$ReadmitFlag, p=0.8, list=FALSE)\n",
        "trainData <- data[trainRowNumbers,]\n",
        "testData <- data[-trainRowNumbers,]\n",
        "\n",
        "# Impute numeric variables\n",
        "preProcess_missingdata_model <- preProcess(trainData, method='knnImpute')\n",
        "preProcess_missingdata_model\n",
        "\n",
        "trainData <- predict(preProcess_missingdata_model, newdata = trainData)\n",
        "\n",
        "# Use only complete cases\n",
        "if(anyNA(trainData)){\n",
        "  trainData <- trainData[complete.cases(trainData),]\n",
        "}\n",
        "\n",
        "# Set predictors and outcome variables\n",
        "x = trainData[, 2:26]\n",
        "y = trainData$ReadmitFlag\n",
        "\n",
        "# One-Hot Encode factor variables\n",
        "dummies_model <- dummyVars(ReadmitFlag ~ ., data = trainData)\n",
        "trainData_mat <- predict(dummies_model, newdata = trainData)\n",
        "trainData <- data.frame(trainData_mat)\n",
        "\n",
        "# Pre-process using range between 1 and 0\n",
        "preProcess_range_model <- preProcess(trainData, method='range')\n",
        "trainData <- predict(preProcess_range_model, newdata = trainData)\n",
        "\n",
        "# Append the Y variable\n",
        "trainData$ReadmitFlag <- y"
      ],
      "metadata": {
        "id": "Wg6Do5L9dgf5"
      },
      "execution_count": null,
      "outputs": []
    },
    {
      "cell_type": "markdown",
      "source": [
        "## Feature Selection"
      ],
      "metadata": {
        "id": "aIO_VYAMdtFE"
      }
    },
    {
      "cell_type": "code",
      "source": [
        "# Visualize the importance of variables \n",
        "# Box\n",
        "featurePlot(x = trainData[, 1:26], \n",
        "            y = trainData$ReadmitFlag, \n",
        "            plot = \"box\",\n",
        "            strip=strip.custom(par.strip.text=list(cex=.7)),\n",
        "            scales = list(x = list(relation=\"free\"), \n",
        "                          y = list(relation=\"free\")))\n",
        "# Density\n",
        "featurePlot(x = trainData[, 1:26], \n",
        "            y = trainData$ReadmitFlag, \n",
        "            plot = \"density\",\n",
        "            strip=strip.custom(par.strip.text=list(cex=.7)),\n",
        "            scales = list(x = list(relation=\"free\"), \n",
        "                          y = list(relation=\"free\")))"
      ],
      "metadata": {
        "id": "6-WnDK9Ud0Z2"
      },
      "execution_count": null,
      "outputs": []
    },
    {
      "cell_type": "code",
      "source": [
        "# Select features using RFE\n",
        "set.seed(100)\n",
        "options(warn=-1)\n",
        "\n",
        "subsets <- c(1:5, 10, 15, 25)\n",
        "ctrl <- rfeControl(functions = rfFuncs,\n",
        "                   method = \"repeatedcv\",\n",
        "                   repeats = 5,\n",
        "                   verbose = FALSE)\n",
        "rfProfile <- rfe(x=trainData[, 1:18], y=trainData$ReadmitFlag,\n",
        "                 sizes = subsets,\n",
        "                 rfeControl = ctrl)\n",
        "rfProfile\n",
        "\n",
        "plot(rfProfile, type = c(\"g\", \"o\"))\n",
        "\n",
        "optVars <- rfProfile$optVariables # use only optimal variables\n",
        "\n",
        "trainData <- trainData[,c(\"ReadmitFlag\",optVars)]"
      ],
      "metadata": {
        "id": "HiL3sQ0wkl6v"
      },
      "execution_count": null,
      "outputs": []
    },
    {
      "cell_type": "markdown",
      "source": [
        "## Training\n"
      ],
      "metadata": {
        "id": "kw9bZgsAd074"
      }
    },
    {
      "cell_type": "code",
      "source": [
        "# MARS\n",
        "set.seed(100)\n",
        "model_mars = train(ReadmitFlag ~ ., data=trainData, method='earth')\n",
        "fitted <- predict(model_mars)\n",
        "plot(model_mars, main=\"Model Accuracies with MARS\")\n",
        "\n",
        "# GLM\n",
        "set.seed(100)\n",
        "model_glm = train(ReadmitFlag ~ ., data=trainData, method='glm')\n",
        "fitted <- predict(model_glm) # No tuning for this model\n",
        "\n",
        "#Random Forest\n",
        "set.seed(100)\n",
        "model_rf = train(ReadmitFlag ~ ., data=trainData, method='rf')\n",
        "fitted <- predict(model_rf)\n",
        "plot(model_rf, main=\"Model Accuracies with RandomForests\")"
      ],
      "metadata": {
        "id": "H5EmgCOYd5hv"
      },
      "execution_count": null,
      "outputs": []
    },
    {
      "cell_type": "code",
      "source": [
        "# Variable Importance\n",
        "varimp_mars <- varImp(model_mars)\n",
        "plot(varimp_mars, main=\"Variable Importance with MARS\")\n",
        "\n",
        "varimp_glm <- varImp(model_glm)\n",
        "plot(varimp_glm, main=\"Variable Importance with GLM\")\n",
        "\n",
        "varimp_rf <- varImp(model_rf)\n",
        "plot(varimp_rf, main=\"Variable Importance with RF\")"
      ],
      "metadata": {
        "id": "O0zgu2t8kgU8"
      },
      "execution_count": null,
      "outputs": []
    },
    {
      "cell_type": "markdown",
      "source": [
        "## Testing"
      ],
      "metadata": {
        "id": "eGxX0Xe_d6Sa"
      }
    },
    {
      "cell_type": "code",
      "source": [
        "# Pre-processing pipeline\n",
        "# Step 1: Impute missing values\n",
        "testData2 <- predict(preProcess_missingdata_model, testData)\n",
        "\n",
        "# Step 2: Use only complete cases\n",
        "if(anyNA(testData2)){\n",
        "  testData2 <- testData2[complete.cases(testData2),]\n",
        "}\n",
        "\n",
        "# Step 3: Create one-hot encodings (dummy variables)\n",
        "testData3 <- predict(dummies_model, testData2)\n",
        "\n",
        "# Step 4: Use only optimal variables\n",
        "testData4 <- testData3[,optVars]"
      ],
      "metadata": {
        "id": "HucCFAbFeAwu"
      },
      "execution_count": null,
      "outputs": []
    },
    {
      "cell_type": "markdown",
      "source": [
        "## Model Selection"
      ],
      "metadata": {
        "id": "k9JWbBHzeBKq"
      }
    },
    {
      "cell_type": "code",
      "execution_count": null,
      "metadata": {
        "id": "9jQzUwj5zRaG"
      },
      "outputs": [],
      "source": [
        "# Predict on test Data and Assess \n",
        "# MARS\n",
        "predicted_mars <- predict(model_mars, testData4)\n",
        "confusionMatrix(\n",
        "  reference = testData2$ReadmitFlag,\n",
        "  data = predicted_mars,\n",
        "  mode ='everything',\n",
        "  positive = '1'\n",
        "  )\n",
        "\n",
        "# GLM\n",
        "predicted_glm <- predict(model_glm, testData4)\n",
        "confusionMatrix(\n",
        "  reference = testData2$ReadmitFlag,\n",
        "  data = predicted_glm,\n",
        "  mode ='everything',\n",
        "  positive = '1'\n",
        ")\n",
        "\n",
        "# RF\n",
        "predicted_rf <- predict(model_rf, testData4)\n",
        "confusionMatrix(\n",
        "  reference = testData2$ReadmitFlag,\n",
        "  data = predicted_rf,\n",
        "  mode ='everything',\n",
        "  positive = '1'\n",
        ")"
      ]
    },
    {
      "cell_type": "code",
      "source": [
        "# Model Comparison\n",
        "# Compare model performances using resample()\n",
        "models_compare <- resamples(list(\n",
        "  RF=model_rf,\n",
        "  MARS=model_mars,\n",
        "  GLM=model_glm))\n",
        "\n",
        "summary(models_compare)\n",
        "\n",
        "scales <- list(x=list(relation=\"free\"), y=list(relation=\"free\"))\n",
        "bwplot(models_compare, scales=scales)"
      ],
      "metadata": {
        "id": "TxgQLs6ekWXv"
      },
      "execution_count": null,
      "outputs": []
    },
    {
      "cell_type": "markdown",
      "metadata": {
        "id": "mK-eGx0tzRaG"
      },
      "source": [
        "# Conclusion\n",
        "\n",
        "- What insights do these models give? \n",
        "- Which model is best?\n",
        "- How might you improve your analysis?"
      ]
    },
    {
      "cell_type": "code",
      "execution_count": null,
      "metadata": {
        "id": "bAoXXKNSzRaH"
      },
      "outputs": [],
      "source": [
        "# your code here..."
      ]
    }
  ],
  "metadata": {
    "hide_input": false,
    "kernelspec": {
      "display_name": "R",
      "language": "R",
      "name": "ir"
    },
    "language_info": {
      "codemirror_mode": "r",
      "file_extension": ".r",
      "mimetype": "text/x-r-source",
      "name": "R",
      "pygments_lexer": "r",
      "version": "4.1.2"
    },
    "toc": {
      "base_numbering": 1,
      "nav_menu": {},
      "number_sections": true,
      "sideBar": true,
      "skip_h1_title": false,
      "title_cell": "Table of Contents",
      "title_sidebar": "Contents",
      "toc_cell": false,
      "toc_position": {
        "height": "calc(100% - 180px)",
        "left": "10px",
        "top": "150px",
        "width": "248.958px"
      },
      "toc_section_display": true,
      "toc_window_display": false
    },
    "varInspector": {
      "cols": {
        "lenName": 16,
        "lenType": 16,
        "lenVar": 40
      },
      "kernels_config": {
        "python": {
          "delete_cmd_postfix": "",
          "delete_cmd_prefix": "del ",
          "library": "var_list.py",
          "varRefreshCmd": "print(var_dic_list())"
        },
        "r": {
          "delete_cmd_postfix": ") ",
          "delete_cmd_prefix": "rm(",
          "library": "var_list.r",
          "varRefreshCmd": "cat(var_dic_list()) "
        }
      },
      "oldHeight": 307.219,
      "position": {
        "height": "40px",
        "left": "1985.64px",
        "right": "20px",
        "top": "131.988px",
        "width": "350px"
      },
      "types_to_exclude": [
        "module",
        "function",
        "builtin_function_or_method",
        "instance",
        "_Feature"
      ],
      "varInspector_section_display": "none",
      "window_display": true
    },
    "colab": {
      "name": "Data Science Assessment v2.ipynb",
      "provenance": []
    }
  },
  "nbformat": 4,
  "nbformat_minor": 0
}